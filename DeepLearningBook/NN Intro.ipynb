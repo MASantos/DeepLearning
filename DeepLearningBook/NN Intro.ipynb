{
 "cells": [
  {
   "cell_type": "markdown",
   "metadata": {},
   "source": [
    "### Perceptron\n",
    "\n",
    "<pre>\n",
    "2 inputs                                     N inputs\n",
    "\n",
    "X1o                                          X1o\n",
    "   \\                                             \\\n",
    "    \\W1                                           \\\n",
    "     \\             --                              \\             --\n",
    "      ----------  |   --------o y            X2o--------------  |   --------o y\n",
    "     /          __|                          .     /          __|\n",
    "    /W2                                      .    /            \n",
    "X2o/                                         .   /\n",
    "                                                /\n",
    "                                            Xno/ \n",
    "</pre>"
   ]
  },
  {
   "cell_type": "code",
   "execution_count": 296,
   "metadata": {
    "collapsed": false
   },
   "outputs": [
    {
     "name": "stdout",
     "output_type": "stream",
     "text": [
      "1\n"
     ]
    },
    {
     "data": {
      "text/plain": [
       "1"
      ]
     },
     "execution_count": 296,
     "metadata": {},
     "output_type": "execute_result"
    }
   ],
   "source": [
    "def perceptron(x1,x2,w1,w2,str=False,debug=False):\n",
    "    \"\"\"\n",
    "    Simple perceptron w/ 2 inputs, 2 weights and Heaviside step function\n",
    "    \"\"\"\n",
    "    z = x1*w1+x2*w2\n",
    "    if debug: print(\"x1: \",x1,\"  x2: \",x2,\"  w1: \",w1,\"  w2: \",w2,\"  z: \",z,end=\" -->  \")\n",
    "    if not str: return -1 if z<0 else 1;\n",
    "    else: return \"-\" if z<0 else \"1\";\n",
    "\n",
    "print(perceptron(-0,2,0,1))\n",
    "\n",
    "def nPerceptron(X,W,str=False):\n",
    "    assert(len(X)==len(W))\n",
    "    z=0;\n",
    "    for i in range(0, len(X)):\n",
    "        z+=X[i]*W[i]\n",
    "    if not str: return -1 if z<0 else 1;\n",
    "    else: return \"-\" if z<0 else \"1\";\n",
    "\n",
    "nPerceptron([3,2,2],[0,1,2])"
   ]
  },
  {
   "cell_type": "code",
   "execution_count": 330,
   "metadata": {
    "collapsed": false
   },
   "outputs": [],
   "source": [
    "from math import floor\n",
    "\n",
    "def scan2InputNN(nn,weights,xysup=11,showHidden=None,debug=False): \n",
    "    \"\"\"\n",
    "    Pass a 'neural network with 2 inputs and its weights, then scan a given range of values for those inputs and see \n",
    "     where the NN classifies those points into ('-' / '+')\n",
    "     \n",
    "    NN needs to have defined inputs and weights as simple array. Also optional variables showHidden, \n",
    "    for showing values of hidden neurons, or debug for additional info\n",
    "    \n",
    "    xysup=11 #supremum of x,y ranges, with -xysup(1-[1/2]) <= x,y <= xysup(1-[1/2]). \n",
    "    E.g., xysup=11, xy \\in [-5,5]\n",
    "    \n",
    "    \"\"\"\n",
    "    X1 = np.arange(0,xysup)\n",
    "    X2 = np.arange(0,xysup)\n",
    "    X1 -= floor(xysup/2)\n",
    "    X2 -= floor(xysup/2)\n",
    "    X1\n",
    "\n",
    "    if showHidden: print(\"Showing hidden neuron \",showHidden)\n",
    "        \n",
    "    print(\"      \",end=\"\") #formatting\n",
    "    for x1 in X1:          #Print first line w/ x-coord \n",
    "        print(x1,end=\"  \")\n",
    "    print(\"\\n\\t\",end=\"\") \n",
    "    for x2 in reversed(X2):                               #Print first y coor. (+ values top/first=>reverse array)\n",
    "        print(x2,end=\" \") if x2<0 else print(x2,end=\"  \")\n",
    "        for x1 in X1:                                     #...then go on w/ values along x-axis\n",
    "            #print(nn1HiddenLayer3([x1,x2],W),end=\"  \" )\n",
    "            #if debug: help(nn)\n",
    "            print(nn([x1,x2],weights,showHidden=showHidden,debug=debug),end=\"  \" )\n",
    "        print(\"\\n\\t\",end=\"\")\n",
    "\n",
    "\"\"\"def scan2InputPerceptron(ptron,weights,debug=False):\n",
    "    def wraptron(X,weights,showHidden=None):\n",
    "        ptron(X[0],X[1],weights[0],weights[1],str=True,debug=debug)\n",
    "    \n",
    "    scan2InputNN(wraptron,weights)\n",
    "\"\"\"    \n",
    "def wraptron(X,weights,showHidden=None,debug=False):\n",
    "    return perceptron(X[0],X[1],weights[0],weights[1],str=True,debug=debug)\n"
   ]
  },
  {
   "cell_type": "code",
   "execution_count": 331,
   "metadata": {
    "collapsed": false
   },
   "outputs": [
    {
     "name": "stdout",
     "output_type": "stream",
     "text": [
      "      -5  -4  -3  -2  -1  0  1  2  3  4  5  \n",
      "\t5  1  1  1  1  1  1  1  1  1  1  1  \n",
      "\t4  1  1  1  1  1  1  1  1  1  1  1  \n",
      "\t3  -  1  1  1  1  1  1  1  1  1  1  \n",
      "\t2  -  -  1  1  1  1  1  1  1  1  1  \n",
      "\t1  -  -  -  -  1  1  1  1  1  1  1  \n",
      "\t0  -  -  -  -  -  1  1  1  1  1  1  \n",
      "\t-1 -  -  -  -  -  -  -  1  1  1  1  \n",
      "\t-2 -  -  -  -  -  -  -  -  1  1  1  \n",
      "\t-3 -  -  -  -  -  -  -  -  -  -  1  \n",
      "\t-4 -  -  -  -  -  -  -  -  -  -  -  \n",
      "\t-5 -  -  -  -  -  -  -  -  -  -  -  \n",
      "\tx1:  -4   x2:  -3   w1:  1   w2:  1   z:  -7 -->  -1\n"
     ]
    }
   ],
   "source": [
    "#scan2InputPerceptron(perceptron,weights=[0,1],debug=True)\n",
    "scan2InputNN(wraptron,weights=[2,3],debug=False)\n",
    "print(perceptron(-4,-3,1,1,debug=True))"
   ]
  },
  {
   "cell_type": "raw",
   "metadata": {},
   "source": [
    "          W1                           __     h1\n",
    "X1o---------------------------------  |   ------------o\n",
    "   \\ \\              /               __|                \\\n",
    "    \\  \\           /W2                                  \\\n",
    "     \\   \\        /                                      \\ \n",
    "      \\    \\     /                                        \\\n",
    "       \\     \\  /                                          \\\n",
    "        \\      /\\                                           \\w7\n",
    "         \\    /  \\ W3                                        \\\n",
    "          \\  /    \\                                           \\\n",
    "            /      \\                    __     h2          w8  \\                    __            \n",
    "           /\\       /----------------  |   ------------o-------------------------  |   ------------o y\n",
    "          /  \\     /                 __|                       /                 __|              \n",
    "         /    \\   /W4                                         /\n",
    "        /      \\ /                                           /\n",
    "       /      / \\                                           /w9\n",
    "      /     /    \\                                         /\n",
    "     /    /       \\                                       /\n",
    "    /   /          \\W5                                   /\n",
    "   /  /             \\                                   /\n",
    "  / /                \\                  __     h3      /\n",
    "X2o----------------------------------  |   ------------o\n",
    "           W6                        __|\n"
   ]
  },
  {
   "cell_type": "code",
   "execution_count": 332,
   "metadata": {
    "collapsed": false
   },
   "outputs": [
    {
     "data": {
      "text/plain": [
       "9"
      ]
     },
     "execution_count": 332,
     "metadata": {},
     "output_type": "execute_result"
    }
   ],
   "source": [
    "from math import *\n",
    "import numpy as np\n",
    "\n",
    "def nn1HiddenLayer3(X,W,showHidden=None,debug=False):\n",
    "    z1 = X[0]*W[0]+X[1]*W[1];\n",
    "    z2 = X[0]*W[2]+X[1]*W[3];\n",
    "    z3 = X[0]*W[4]+X[1]*W[5];\n",
    "\n",
    "    h1 = -1 if z1<0 else 1;\n",
    "    h2 = -1 if z2<0 else 1;\n",
    "    h3 = -1 if z3<0 else 1;\n",
    "  \n",
    "    z  = h1*W[6]+h2*W[7]+h3*W[8];\n",
    "    return \"-\" if z<0 else \"1\";\n",
    "    \n",
    "W = [0,1,\n",
    "     1,1,\n",
    "     2,3,\n",
    "     1,-2,-1]\n",
    "\n",
    "len(W)"
   ]
  },
  {
   "cell_type": "code",
   "execution_count": 333,
   "metadata": {
    "collapsed": false
   },
   "outputs": [
    {
     "name": "stdout",
     "output_type": "stream",
     "text": [
      "      -5  -4  -3  -2  -1  0  1  2  3  4  5  \n",
      "\t5  -  -  -  -  -  -  -  -  -  -  -  \n",
      "\t4  1  -  -  -  -  -  -  -  -  -  -  \n",
      "\t3  1  1  -  -  -  -  -  -  -  -  -  \n",
      "\t2  1  1  1  -  -  -  -  -  -  -  -  \n",
      "\t1  1  1  1  1  -  -  -  -  -  -  -  \n",
      "\t0  1  1  1  1  1  -  -  -  -  -  -  \n",
      "\t-1 1  1  1  1  1  1  -  -  -  -  -  \n",
      "\t-2 1  1  1  1  1  1  1  -  -  -  -  \n",
      "\t-3 1  1  1  1  1  1  1  1  -  -  -  \n",
      "\t-4 1  1  1  1  1  1  1  1  1  -  -  \n",
      "\t-5 1  1  1  1  1  1  1  1  1  1  -  \n",
      "\t"
     ]
    }
   ],
   "source": [
    "scan2InputNN(nn1HiddenLayer3,W)"
   ]
  },
  {
   "cell_type": "code",
   "execution_count": 347,
   "metadata": {
    "collapsed": false
   },
   "outputs": [
    {
     "name": "stdout",
     "output_type": "stream",
     "text": [
      "      -10  -9  -8  -7  -6  -5  -4  -3  -2  -1  0  1  2  3  4  5  6  7  8  9  10  \n",
      "\t10  1  1  1  1  1  1  1  1  1  1  1  1  1  1  1  1  1  1  1  1  1  \n",
      "\t9  -  1  1  1  1  1  1  1  1  1  1  1  1  1  1  1  1  1  1  1  1  \n",
      "\t8  -  -  1  1  1  1  1  1  1  1  1  1  1  1  1  1  1  1  1  1  1  \n",
      "\t7  -  -  -  1  1  1  1  1  1  1  1  1  1  1  1  1  1  1  1  1  1  \n",
      "\t6  1  -  -  -  1  1  1  1  1  1  1  1  1  1  1  1  1  1  1  1  1  \n",
      "\t5  1  1  1  -  -  1  1  1  1  1  1  1  1  1  1  1  1  1  1  1  1  \n",
      "\t4  1  1  1  1  -  -  1  1  1  1  1  1  1  1  1  1  1  1  1  1  1  \n",
      "\t3  1  1  1  1  1  1  -  1  1  1  1  1  1  1  1  1  1  1  1  1  1  \n",
      "\t2  1  1  1  1  1  1  1  -  1  1  1  1  1  1  1  1  1  1  1  1  1  \n",
      "\t1  1  1  1  1  1  1  1  1  1  1  1  1  1  1  1  1  1  1  1  1  1  \n",
      "\t0  1  1  1  1  1  1  1  1  1  1  1  1  1  1  1  1  1  1  1  1  1  \n",
      "\t-1 1  1  1  1  1  1  1  1  1  1  1  1  -  -  -  -  -  -  -  -  -  \n",
      "\t-2 1  1  1  1  1  1  1  1  1  1  1  1  1  -  -  -  -  -  -  -  -  \n",
      "\t-3 1  1  1  1  1  1  1  1  1  1  1  1  1  1  1  -  -  -  -  -  -  \n",
      "\t-4 1  1  1  1  1  1  1  1  1  1  1  1  1  1  1  1  -  -  -  -  -  \n",
      "\t-5 1  1  1  1  1  1  1  1  1  1  1  1  1  1  1  1  1  1  -  -  -  \n",
      "\t-6 1  1  1  1  1  1  1  1  1  1  1  1  1  1  1  1  1  1  1  -  -  \n",
      "\t-7 1  1  1  1  1  1  1  1  1  1  1  1  1  1  1  1  1  1  1  1  1  \n",
      "\t-8 1  1  1  1  1  1  1  1  1  1  1  1  1  1  1  1  1  1  1  1  1  \n",
      "\t-9 1  1  1  1  1  1  1  1  1  1  1  1  1  1  1  1  1  1  1  1  1  \n",
      "\t-10 1  1  1  1  1  1  1  1  1  1  1  1  1  1  1  1  1  1  1  1  1  \n",
      "\t"
     ]
    }
   ],
   "source": [
    "def nn1HiddenLayer3B(X,W,showHidden=None,debug=False):\n",
    "    str=[False,False,False]\n",
    "    h=0\n",
    "    if showHidden : \n",
    "        h=showHidden-1\n",
    "        assert(h>=0)\n",
    "        str[h]=True \n",
    "        \n",
    "    hl=[]\n",
    "    hl.append( perceptron(X[0],X[1],W[0],W[1],str[0]) )\n",
    "    hl.append( perceptron(X[0],X[1],W[2],W[3],str[1]) )\n",
    "    hl.append( perceptron(X[0],X[1],W[4],W[5],str[2]) )\n",
    "    \n",
    "    if debug: print(\"h1: \",hl[0],\"  h2: \",hl[1],\"  h3: \",hl[2],\"\\nh: \",h,\"  showHidden: \",showHidden)\n",
    "        \n",
    "    if showHidden: return hl[h]\n",
    "        \n",
    "    z = hl[0]*W[6]+hl[1]*W[7]\n",
    "    \n",
    "    if debug: print(\"S^{-1}(y): \",z+hl[2]*W[8],\"\\nW7 / W8 / W9 : \",W[6],W[7],W[8])\n",
    "        \n",
    "    return perceptron(z,hl[2],1,W[8],str=True)\n",
    "\n",
    "W = [0,1,\n",
    "     1,1,\n",
    "     2,3,\n",
    "     1,2,-3]\n",
    "\n",
    "scan2InputNN(nn1HiddenLayer3B,W,xysup=21,showHidden=None)"
   ]
  },
  {
   "cell_type": "code",
   "execution_count": 335,
   "metadata": {
    "collapsed": false
   },
   "outputs": [
    {
     "name": "stdout",
     "output_type": "stream",
     "text": [
      "h1:  1   h2:  1   h3:  1 \n",
      "h:  0   showHidden:  None\n",
      "S^{-1}(y):  2 \n",
      "W7 / W8 / W9 :  1 -2 3\n"
     ]
    },
    {
     "data": {
      "text/plain": [
       "'1'"
      ]
     },
     "execution_count": 335,
     "metadata": {},
     "output_type": "execute_result"
    }
   ],
   "source": [
    "nn1HiddenLayer3B([3,2],W,showHidden=None,debug=True)"
   ]
  },
  {
   "cell_type": "code",
   "execution_count": 336,
   "metadata": {
    "collapsed": false
   },
   "outputs": [
    {
     "data": {
      "text/plain": [
       "1"
      ]
     },
     "execution_count": 336,
     "metadata": {},
     "output_type": "execute_result"
    }
   ],
   "source": [
    "perceptron(-5,0,0,1)"
   ]
  },
  {
   "cell_type": "raw",
   "metadata": {},
   "source": [
    "          W1                           __     h1\n",
    "X1o---------------------------------  |   ------o\n",
    "   \\ \\              /               __|          \\\n",
    "    \\  \\           /W2                            \\w7\n",
    "     \\   \\        /                                \\ \n",
    "      \\    \\     /                                  \\            __       J1\n",
    "       \\     \\  /                                    /--------  |   ------o\n",
    "        \\      /\\                                   /         __|          \\\n",
    "         \\    /  \\ W3                              /w8                      \\w11\n",
    "          \\  /    \\                               /                          \\\n",
    "            /      \\                    __     h2/                            \\        __            \n",
    "           /\\       /----------------  |   -----o  ----------/     /----------------  |   ------------o y\n",
    "          /  \\     /                 __|         \\                             /    __|              \n",
    "         /    \\   /W4                             \\w9                         /\n",
    "        /      \\ /                                 \\                         /w12\n",
    "       /      / \\                                   \\             __        /\n",
    "      /     /    \\                                   /---------  |   ------o\n",
    "     /    /       \\                                 /          __|         J2\n",
    "    /   /          \\W5                             /w10       \n",
    "   /  /             \\                             /      \n",
    "  / /                \\                  __     h3/      \n",
    "X2o----------------------------------  |   -----o\n",
    "           W6                        __|\n"
   ]
  },
  {
   "cell_type": "code",
   "execution_count": 342,
   "metadata": {
    "collapsed": false
   },
   "outputs": [],
   "source": [
    "def nn2HiddenLayer32(X,W,showHidden=None,debug=False):\n",
    "    assert(len(W)==12)\n",
    "    str=[False,False,False,False,False]\n",
    "    h=0\n",
    "    if showHidden : \n",
    "        h=showHidden-1 # h1-3: 0-2 ; j1-2:3,4\n",
    "        assert(h>=0)\n",
    "        str[h]=True \n",
    "        \n",
    "    hl=[]\n",
    "    hl.append(nPerceptron(X=X,W=W[0:2],str=str[0]) )\n",
    "    hl.append(nPerceptron(X=X,W=W[2:4],str=str[1]) )\n",
    "    hl.append(nPerceptron(X=X,W=W[4:6],str=str[2]) )\n",
    "    \n",
    "    if showHidden and h<3: return hl[h]\n",
    "    \n",
    "    jl=[]\n",
    "    jl.append(nPerceptron(X=[hl[0],hl[1]],W=W[6:8],str=str[3]) )\n",
    "    jl.append(nPerceptron(X=[hl[1],hl[2]],W=W[8:10],str=str[4]) )\n",
    "\n",
    "    if showHidden: return jl[h-3]  #only happens if not printing first hidden layer hl[h]\n",
    "\n",
    "    if debug:\n",
    "        for i in range(5):\n",
    "            if i<3:\n",
    "                v = hl[i]\n",
    "                idx = i\n",
    "                lbl='h'\n",
    "            else:\n",
    "                v = jl[i-3]\n",
    "                idx = i-3\n",
    "                lbl='J'\n",
    "            print(lbl,\"\",idx,\": \",v,\"  \",end=\"\",sep=\"\")\n",
    "        print(\"\\nh: \",h,\"  showHidden: \",showHidden,sep=\"\")\n",
    "\n",
    "    if showHidden: return hl[h] if h<3 else jl[h-3]\n",
    "    \n",
    "    return nPerceptron(X=[jl[0],jl[1]],W=W[10:12],str=True)\n"
   ]
  },
  {
   "cell_type": "code",
   "execution_count": 345,
   "metadata": {
    "collapsed": false
   },
   "outputs": [
    {
     "name": "stdout",
     "output_type": "stream",
     "text": [
      "Showing hidden neuron  5\n",
      "      -5  -4  -3  -2  -1  0  1  2  3  4  5  \n",
      "\t5  -  -  -  -  -  -  -  -  -  -  -  \n",
      "\t4  1  -  -  -  -  -  -  -  -  -  -  \n",
      "\t3  1  1  -  -  -  -  -  -  -  -  -  \n",
      "\t2  1  1  1  -  -  -  -  -  -  -  -  \n",
      "\t1  1  1  1  1  -  -  -  -  -  -  -  \n",
      "\t0  1  1  1  1  1  -  -  -  -  -  -  \n",
      "\t-1 1  1  1  1  1  1  -  -  -  -  -  \n",
      "\t-2 1  1  1  1  1  1  1  -  -  -  -  \n",
      "\t-3 1  1  1  1  1  1  1  1  -  -  -  \n",
      "\t-4 1  1  1  1  1  1  1  1  1  -  -  \n",
      "\t-5 1  1  1  1  1  1  1  1  1  1  -  \n",
      "\t"
     ]
    }
   ],
   "source": [
    "weights2Layers=[0,1,       #w1,w2\n",
    "                1,1,       #w3,w4\n",
    "                2,3,       #w5,w6\n",
    "                1,-2,-2,1, #w7,w8,w9,w10\n",
    "                -1,1]       #w11,12\n",
    "\n",
    "#len([1,23,3])\n",
    "#len(weights2Layers)\n",
    "#nn2HiddenLayer32([3,3],weights2Layers)\n",
    "scan2InputNN(nn2HiddenLayer32,weights=weights2Layers,showHidden=5)"
   ]
  },
  {
   "cell_type": "code",
   "execution_count": null,
   "metadata": {
    "collapsed": true
   },
   "outputs": [],
   "source": []
  }
 ],
 "metadata": {
  "kernelspec": {
   "display_name": "Python 3",
   "language": "python",
   "name": "python3"
  },
  "language_info": {
   "codemirror_mode": {
    "name": "ipython",
    "version": 3
   },
   "file_extension": ".py",
   "mimetype": "text/x-python",
   "name": "python",
   "nbconvert_exporter": "python",
   "pygments_lexer": "ipython3",
   "version": "3.6.0"
  }
 },
 "nbformat": 4,
 "nbformat_minor": 2
}
