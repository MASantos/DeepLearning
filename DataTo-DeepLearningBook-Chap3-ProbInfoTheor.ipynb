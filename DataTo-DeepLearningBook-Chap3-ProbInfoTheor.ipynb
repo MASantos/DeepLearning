{
 "cells": [
  {
   "cell_type": "markdown",
   "metadata": {},
   "source": [
    "# Deep Learning Book\n",
    "\n",
    "## Reference: http://www.deeplearningbook.org/\n",
    "\n",
    "## Chapter 3: Probability and Information Theory"
   ]
  },
  {
   "cell_type": "markdown",
   "metadata": {},
   "source": [
    "## 3.1 Why Prob\n",
    "## 3.2 Random Variables\n",
    "## 3.3 Probability Distributions\n",
    "### 3.3.1 Discrete -> PMF\n",
    "### 3.3.2 Continuous -> PDF\n",
    "## 3.4 Marginal Prob\n",
    "## 3.5 Conditional Prob\n",
    "## 3.6 Chain for Cond. Prob.\n",
    "## 3.7 Independence and Cond. Indep.\n",
    "## 3.8 Expectation, Variance & Covariance\n",
    "## 3.9 Common Prob. Dist.\n",
    "## 3.10 Properties\n",
    "## 3.11 Bayes' Rules\n",
    "## 3.12 Tech. Details on Cont. Variables\n",
    "## 3.13 Information Theory\n",
    "## 3.14 Strutured Prob. Models"
   ]
  },
  {
   "cell_type": "markdown",
   "metadata": {},
   "source": [
    "#### Disclaimer\n",
    "All the blame goes to M.A. Santos :grimacing: . Comments, questions and/or corrections are welcome."
   ]
  },
  {
   "cell_type": "markdown",
   "metadata": {},
   "source": [
    "## 3.1 Why Prob\n",
    "\n",
    "What is Random? Ans: What is non-random, aka, deterministic? Latter means we can predict using one-on-one relationship $z = f(x,y) \\; f(x,y)= x^2+y^2$ and the \"cause\" $x$ can a priori be determined with arbitrary precision.\n",
    "\n",
    "Random => Previous assumptions fail. \n",
    " 1. Intrinsically random : The nature of the \"cause\" is itself unpredictable. When will radioactive material emit next neutron? \n",
    " 2. Too complex: Mathematically intractable => Must rely on approximations => uncertainties in predictions \n",
    " 3. Limited model: Model sketchy aka simplistic approximation (e.g, previous $z \\sim g(x) = x^2$) => uncertainties in predictions\n",
    " \n",
    "In our daily lives, only relevant 2 & 3.\n",
    " \n",
    "## 3.2 Random Variable\n",
    "\n",
    "Examples of random problems:\n",
    "\n",
    "### Random variable\n",
    "\n",
    "E.g., D: Throwing a dice , C: toss a coin\n",
    "\n",
    "### Random Set of Events\n",
    "\n",
    " * Costumers arriving at a service desk\n",
    " * Count in a Geiger counter \n",
    " * Electrons arriving at anode of vacuum tube\n",
    " \n",
    "0 --------------------   $Q_0$\n",
    "\n",
    "1 ----+---------------   $Q_1(t_1)$\n",
    "\n",
    "2 -------+-----+------   $Q_2( t_1,\\,t_2)$\n",
    "\n",
    "2 --+--+--------------\n",
    "\n",
    "...\n",
    "\n",
    "5 -+------+---+--+---+  $Q_5(t_1,\\,t_2,t_3,\\,t_4,\\,t_5)$\n",
    "\n",
    "....\n"
   ]
  },
  {
   "cell_type": "markdown",
   "metadata": {},
   "source": [
    "## 3.3 Probability Distribution\n",
    "\n",
    "All information about D, C or the random set is contained in the Prob. Dist.\n",
    "\n",
    "$D = \\{1,2,3,4,5,6\\}$\n",
    "\n",
    "$P(D=4)\\,=\\,1/6$ (unbiased) \n",
    "\n",
    "$P(D)=1/6$\n",
    "\n",
    "\n",
    " * $0 \\leq P(D) \\leq 1$ P(D) is a positive measure of likelihood\n",
    " * $ S_1=\\{1,2\\},\\,S_2=\\{3,4,5\\} \\subset D$ then\n",
    "   $P(S_1 \\cup S_2) \\,=\\, P(S_1)\\,+\\,P(S_2)$ i.e., if no event in common, Prob of both is = sum of Probs.\n",
    " * $ S_1\\,\\cup\\,S_3\\,=\\,D\\;\\;S_1\\,\\cap\\,S_3\\,=\\,0$ then\n",
    "   $P(S_1)\\,+\\,P(S_2)\\,=\\,1$ Normalization condition: At least one of the event in D will happen **for sure**!\n",
    "\n",
    "#### Random set\n",
    "\n",
    "At least one of these cases will happen $=>$ **Normalization**:\n",
    "\n",
    "Notice, all $Q_i$ are describe probabilities of certain event cases, but none case individually exaust all posibilities. Whence none of the $Q_i$ can be normalized to 1.\n",
    "\n",
    "Discrete case: Events can only happen at specific (but random) times $T=\\{T_1,T_2,\\cdots,T_N\\}$ :\n",
    "\n",
    "$Q_0\\,+\\,\\sum_T\\,\\,Q(t_1)\\,+\\,\\sum_T\\,\\,Q(t_1,t_2)\\,+\\,\\sum_T\\,\\,Q(t_1,t_2,t_3)\\,+\\cdots\\,=\\,1$\n",
    "\n",
    "Continuous case: Time of events is a real number (e.g., 0.00729927sec, 1sec, 2.7182818sec, 3.1415926sec,...)\n",
    "\n",
    "$Q_0\\,+\\,\\int\\,dt_1\\,Q(t_1)\\,+\\,\\int\\,dt_1\\,dt_2\\,Q(t_1,t_2)\\,+\\,\\int\\,dt_1\\,dt_2\\,dt_3\\,Q(t_1,t_2,t_3)\\,+\\cdots\\,=\\,1$"
   ]
  },
  {
   "cell_type": "markdown",
   "metadata": {},
   "source": [
    "## 3.9 Continuous variables/prob. density functions\n",
    "\n",
    "$p(x)$ Prob. density function.\n",
    "\n",
    "Say studying heights $h$ of people between $h \\in H= [1.4m, 2.3m]$\n",
    "\n",
    "$p(h=1.6) = 1/\\infty = 0$ i.e., chance finding person w/ exactly that height are none!\n",
    "\n",
    "But, this makes sense: $p(h)\\Delta h$  \n",
    "\n",
    "with $h\\in (h_*,h_*+\\Delta h) $ and $h_*$ any given value within domain $H$.\n",
    "\n",
    "$p(h=1.6) \\cdot 0.2 \\gt 0$ , i.e., the chances finding one between 1.6m and 1.8m are arguably non-zero, i.e., we'll surely find one -if we gather big enough a sample.\n"
   ]
  },
  {
   "cell_type": "markdown",
   "metadata": {},
   "source": [
    "### Moments\n",
    "\n",
    "The moments of a random variable are statistics that describe the random variable and its distribution (Notice: if discrete: $\\int dx\\,\\to\\,\\sum$):\n",
    "\n",
    "Mean/Expectation value/Average/1st central moment:  $E(X)\\,=\\,\\int dx p(x) x $ \n",
    " \n",
    "Variance/2nd central moment: $E( (x - E(X)^2 ) \\,=\\, \\int dx p(x) (x-E(X))^2$. Often denoted as $\\sigma^2_X$ or $Var_x$.\n",
    "\n",
    "Skewness/3rd central moment: $E( (x - E(X)^3 ) \\,=\\, \\int dx p(x) (x-E(X))^3$\n",
    "\n",
    "... \n",
    " \n",
    "n-th central moment $E( (x - E(X)^n ) \\,=\\, \\int dx p(x) (x-E(X))^n$\n",
    "\n",
    "### Key point for Random variables\n",
    "\n",
    "If you know **all** moments $E( (x - E(X)^n )$ of a random variable $X$, **you know all there is to be known about $X$**. E.g., the *exact* form of its prob. (mass) distribution!\n",
    "\n",
    "If you know **exactly** the probability (mass/density) distribution of a random variable $X$, aka $P(x)\\,/\\,p(x)$, **you know all there is to be known about $X$**. E.g., all its moments!\n",
    "\n",
    "In practice it's easier to get an approximate idea of $P(x)\\,/\\,p(x)$ by studying some first few moments, specially, mean and variance (or covariance if multiple components, e.g., p(x,y) ).\n",
    "\n",
    "But's it good to keep in mind there more to the story than just the mean and variance. Another interesting point to look at are the tails of a distribution. For a discussion on how variance and tails give independent insight on the distribution see http://masantos.github.io/posts/2016-06-23-Noise:-Variance-and-Tail.html "
   ]
  },
  {
   "cell_type": "markdown",
   "metadata": {},
   "source": [
    "### 3.9.3 Gaussian\n",
    "#### 3.9.3 1-Dimensional\n",
    "\n",
    "$p(x)\\,=\\,exp\\{-x^2/(2\\sigma^2)\\}/\\sqrt{2\\cdot \\pi \\cdot \\sigma^2}$\n",
    "\n",
    "$\\sigma^2$ is the variance of the random variable $X$ described by $p(x)$ (in short, the variance of $p(x)$. $\\sigma$ itselft, i.e., the squared root of the variance, is called the standard deviation.\n",
    "\n",
    "Usually, the mean value of a distribution is denoted by the greek letter $\\mu$. For this gaussian, clearly $\\mu=0$ as it is symmetric around $x=0$, that is, there is the same probability of liying on either side of that point.\n",
    "\n",
    "Finally, as it is a continuous variable its normalization is given by an integral over the whole range of possible values of x (in this case, from $-\\infty\\to +\\infty$.\n",
    "\n",
    "$\\int_{-\\infty}^{\\infty}\\,p(x)\\,dx\\,=\\,1$\n",
    "\n",
    "In general, for non-zero $\\mu$:\n",
    "\n",
    "$p(x)\\,=\\,exp\\{-(x-\\mu)^2/(2\\sigma^2)\\}/\\sqrt{2\\cdot \\pi \\cdot \\sigma^2}$\n",
    "\n",
    "\n",
    "Let's build and styudy the latter. Assume $\\mu=3$ and $\\sigma^2=5$. See for reference https://docs.scipy.org/doc/scipy-0.14.0/reference/stats.html"
   ]
  },
  {
   "cell_type": "code",
   "execution_count": 18,
   "metadata": {
    "collapsed": false
   },
   "outputs": [
    {
     "name": "stdout",
     "output_type": "stream",
     "text": [
      "pdf(x=mu-sig) | pdf(x=mu) | pdf(x=mu+sig):  0.108212597718 0.178412411615 0.108212597718\n",
      "Peak value of pdf(x):  0.178412389309\n"
     ]
    }
   ],
   "source": [
    "from scipy import stats\n",
    "import numpy as np\n",
    "from math import *\n",
    "\n",
    "mu = 3 ; sig = sqrt(5) \n",
    "\n",
    "xmin = mu-5*sig ; xmax = mu+5*sig\n",
    "\n",
    "nPoints = 10000 #number of points to sample\n",
    "\n",
    "x=np.linspace(xmin,xmax,num=nPoints)\n",
    "\n",
    "norm_3_5 = stats.norm(loc=mu,scale=sig)\n",
    "\n",
    "norm_3_1 = stats.norm(mu,1)\n",
    "\n",
    "# print(\"Range x: \",x) \n",
    "\n",
    "print(\"pdf(x=mu-sig) | pdf(x=mu) | pdf(x=mu+sig): \",norm_3_5.pdf(mu-sig),norm_3_5.pdf(mu),norm_3_5.pdf(mu+sig))\n",
    "\n",
    "print(\"Peak value of pdf(x): \",stats.tmax(norm_3_5.pdf(x)) )\n",
    "\n",
    "# print(\"pdf(x): \",norm_3_5.pdf(x))"
   ]
  },
  {
   "cell_type": "code",
   "execution_count": 19,
   "metadata": {
    "collapsed": false
   },
   "outputs": [
    {
     "name": "stdout",
     "output_type": "stream",
     "text": [
      "For Gaussian N(3,5):\n",
      "mean= 3.0  variance= 5.000000000000001  skewness= 0.0 kurtosis= 0.0\n",
      "For Gaussian N(3,1):\n",
      "mean= 3.0  variance= 1.0  skewness= 0.0 kurtosis= 0.0\n"
     ]
    }
   ],
   "source": [
    "# Moments\n",
    "\n",
    "mean, variance, skewness, kurtosis = norm_3_5.stats(moments='mvsk')\n",
    "print(\"For Gaussian N(3,5):\\nmean=\",mean,\" variance=\",variance,\" skewness=\",skewness,\"kurtosis=\",kurtosis)\n",
    "mean, variance, skewness, kurtosis = norm_3_1.stats(moments='mvsk')\n",
    "print(\"For Gaussian N(3,1):\\nmean=\",mean,\" variance=\",variance,\" skewness=\",skewness,\"kurtosis=\",kurtosis)"
   ]
  },
  {
   "cell_type": "code",
   "execution_count": 20,
   "metadata": {
    "collapsed": false,
    "scrolled": true
   },
   "outputs": [
    {
     "data": {
      "image/png": "[encoded data removed]",
      "text/plain": [
       "<matplotlib.figure.Figure at 0x7fd3a6755160>"
      ]
     },
     "metadata": {},
     "output_type": "display_data"
    }
   ],
   "source": [
    "%matplotlib inline\n",
    "\n",
    "import matplotlib.pyplot as plt\n",
    "\n",
    "plt.plot(x,norm_3_5.pdf(x),'b',x,norm_3_1.pdf(x),'r')\n",
    "plt.show()"
   ]
  },
  {
   "cell_type": "code",
   "execution_count": 21,
   "metadata": {
    "collapsed": false
   },
   "outputs": [
    {
     "data": {
      "text/plain": [
       "[<matplotlib.lines.Line2D at 0x7fd3a6620e80>,\n",
       " <matplotlib.lines.Line2D at 0x7fd3a6626898>]"
      ]
     },
     "execution_count": 21,
     "metadata": {},
     "output_type": "execute_result"
    },
    {
     "data": {
      "image/png": "[encoded data removed]",
      "text/plain": [
       "<matplotlib.figure.Figure at 0x7fd3a68a79e8>"
      ]
     },
     "metadata": {},
     "output_type": "display_data"
    }
   ],
   "source": [
    "#Same plot using scipy multivariate\n",
    "\n",
    "from scipy.stats import multivariate_normal\n",
    "x = np.linspace(xmin, xmax, 100, endpoint=False)\n",
    "y = multivariate_normal.pdf(x, mean=mu, cov=sig**2); \n",
    "yr = multivariate_normal.pdf(x, mean=mu, cov=1); \n",
    "# uncomment next fo checking values of pdf(x)\n",
    "# print(y)\n",
    "plt.plot(x, y,x,yr)"
   ]
  },
  {
   "cell_type": "markdown",
   "metadata": {},
   "source": [
    "### 3.9.3 D-dimensional Gaussian (Multivariate)\n",
    "\n",
    "(See https://docs.scipy.org/doc/scipy-0.14.0/reference/generated/scipy.stats.multivariate_normal.html)"
   ]
  },
  {
   "cell_type": "markdown",
   "metadata": {},
   "source": [
    "#### 2-dim Gaussian with independent variables\n",
    "\n",
    "We have two random variables X and Y given by a joint probability density function that is gaussian\n",
    "\n",
    "\n",
    "$p(x,y) \\,=\\,\\frac{1}{2\\cdot\\pi} exp\\{(x^2+y^2)/2\\} \\,=\\,\\frac{1}{\\sqrt{2\\cdot\\pi}} exp\\{-x^2/2\\}\\cdot \\frac{1}{\\sqrt{2\\cdot\\pi}} exp\\{-y^2/2\\} $\n",
    "\n",
    "Normalization:\n",
    "\n",
    "$\\int_{-\\infty}^\\infty\\,dx\\,\\int_{-\\infty}^\\infty\\,dy\\,p(x,y)\\,=\\,1$\n",
    "\n",
    "Marginal prob. $p(x)\\,=\\int_{-\\infty}^\\infty\\,dyp(x,y)\\,=\\,\\frac{1}{\\sqrt{2\\cdot\\pi}}exp\\{-x^2/2\\}$\n",
    "\n",
    "$E(X)=E(Y)=0\\;Var_X=Var_Y=1$"
   ]
  },
  {
   "cell_type": "code",
   "execution_count": 22,
   "metadata": {
    "collapsed": false
   },
   "outputs": [
    {
     "data": {
      "text/plain": [
       "<matplotlib.contour.QuadContourSet at 0x7fd3a6613a58>"
      ]
     },
     "execution_count": 22,
     "metadata": {},
     "output_type": "execute_result"
    },
    {
     "data": {
      "image/png": "[encoded data removed]",
      "text/plain": [
       "<matplotlib.figure.Figure at 0x7fd3a694c4e0>"
      ]
     },
     "metadata": {},
     "output_type": "display_data"
    }
   ],
   "source": [
    "#x = np.linspace(-1,1,0.1)\n",
    "#y = np.linspace(-1,1,0.1)\n",
    "x, y = np.mgrid[-1:1:.01, -1:1:.01]\n",
    "pos = np.empty(x.shape + (2,))\n",
    "pos[:, :, 0] = x; pos[:, :, 1] = y\n",
    "xmean=0. ; ymean=0. ;\n",
    "\n",
    "\"\"\"\n",
    " Covariance matrix: always symmetric matrix; diagonals contain variances of each component\n",
    "\n",
    " (1.  0.0)\n",
    " (0.  1.0)\n",
    " \n",
    " Thus, E( (x-E(x))^2 )=1 , E( (y-E(y))^2 )=1 , Cov(X,Y) := E( (x-E(x))(y-E(y)) )=0 \n",
    " \n",
    " Notice: They *are* indep. => Cov(x,y) =0. Argument doesn't work the other way around. E.g., use y=x^2.\n",
    "\"\"\"\n",
    "covariance=[[1.0,0.],[0.,1]]\n",
    "\n",
    "multiNorm = multivariate_normal(mean=[xmean,ymean],cov=covariance)\n",
    "plt.contourf(x,y,multiNorm.pdf(pos))"
   ]
  },
  {
   "cell_type": "markdown",
   "metadata": {},
   "source": [
    "#### 2-dim Gaussian with correlation between components (hence, non-independent)\n",
    "\n",
    "$p(x,y)\\,=\\,\\frac{1}{2\\cdot\\pi\\cdot\\sqrt{\\det \\mathbf{Cov(X,Y)}}}exp\\{-\\frac{1}{2}\\left( (x,y)\\cdot\\mathbf{Cov^{-1}(X,Y)}(x,y)^T\\right)\\}\\,=\\,\\frac{1}{2\\cdot\\pi\\cdot 0.91}exp\\{-\\frac{1}{2\\cdot 0.91}\\left(0.5 x^2\\,+\\,2 y^2\\,-\\,2\\cdot 0.3\\cdot x  y\\right)\\}$\n",
    "\n",
    "Let's consider following covariance matrix:\n",
    "\n",
    "$\\mathbf{Cov(X,Y)}\\,=\\,\n",
    "\\begin{bmatrix}\n",
    "2 && 0.3 \\\\\n",
    "0.3 && 0.5\n",
    "\\end{bmatrix}$\n",
    "\n",
    "This means\n",
    "\n",
    "$E( (x-E(X))^2 )=2 \\;,\\; E( (y-E(Y))^2 )=0.5 \\;,\\; \\sigma^2_{XY}\\,\\equiv\\, Cov(X,Y)\\,=\\,E( (x-E(X))(y-E(Y)) )=0.3$\n",
    "\n",
    "It's determinant is $\\det\\mathbf{Cov(X,Y)}\\,=\\,2\\cdot 0.5-0.3\\cdot 0.3\\,=\\,0.91$\n",
    "\n",
    "It's inverse,\n",
    "$\\mathbf{Cov^{-1}(X,Y)}\\,=\\frac{1}{\\det\\mathbf{Cov(X,Y)}}\\,\n",
    "\\begin{bmatrix}\n",
    "0.5 && -0.3 \\\\\n",
    "-0.3 && 2.0\n",
    "\\end{bmatrix}$\n",
    "\n",
    "Note: In boldface Cov(X,Y) means the cov. matrix of the random vector (X,Y); in normal typeface Cov(X,Y) means just the covariance of two 1-dimensional (i.e.,numbers) random variables. "
   ]
  },
  {
   "cell_type": "code",
   "execution_count": 23,
   "metadata": {
    "collapsed": false
   },
   "outputs": [
    {
     "data": {
      "text/plain": [
       "<matplotlib.contour.QuadContourSet at 0x7fd3a6596160>"
      ]
     },
     "execution_count": 23,
     "metadata": {},
     "output_type": "execute_result"
    },
    {
     "data": {
      "image/png": "[encoded data removed]",
      "text/plain": [
       "<matplotlib.figure.Figure at 0x7fd3a6805b70>"
      ]
     },
     "metadata": {},
     "output_type": "display_data"
    }
   ],
   "source": [
    "#x = np.linspace(-1,1,0.1)\n",
    "#y = np.linspace(-1,1,0.1)\n",
    "x, y = np.mgrid[-1:1:.01, -1:1:.01]\n",
    "pos = np.empty(x.shape + (2,))\n",
    "pos[:, :, 0] = x; pos[:, :, 1] = y\n",
    "xmean=0.5 ; ymean=-0.2 ;\n",
    "\n",
    "covariance=[[2.0,0.3],[0.3,0.5]]\n",
    "\n",
    "multiNorm = multivariate_normal(mean=[xmean,ymean],cov=covariance)\n",
    "plt.contourf(x,y,multiNorm.pdf(pos))"
   ]
  },
  {
   "cell_type": "markdown",
   "metadata": {},
   "source": [
    "#### Puzzle 1\n",
    "\n",
    "Consider the following 2-dim Gaussian distribution\n",
    "\n",
    "$p(x,y)\\,=\\,\\frac{1}{2\\cdot\\pi\\cdot \\sqrt{ \\det \\mathbf{Cov(X,Y} }  }\\exp\\{-\\frac{1}{2}\\left(x^2\\,+\\,y^2\\,+\\,\\frac{2\\cdot x\\cdot y}{4}\\right)\\}$\n",
    "\n",
    "For the above gaussian\n",
    " 1. Determine the conditional probability density function $p(y\\,|\\,x)$\n",
    " 2. Determine the conditional probability density function $p(x\\,|\\,y)$\n",
    " 1. Determine the marginal probability density function $p(x)$\n",
    " 1. Determine the conditional expectation value of $Y$, i.e., ${\\mathbf E}(Y\\,|\\,X=x)$.\n",
    " 1. The latter average is in turn a random variable depending on $x$ (when a random function of $X$; let's call it $E_Y(x)$), as $X$ is random. Determine is expectation value, i.e., determine $\\mathbf{E}\\left(E_Y(x)\\right)$.\n",
    " 2. Check the chain rule, in the sense that $p(x,y)\\,=\\,p(y\\,|\\,x)\\cdot p(x)$\n",
    "\n",
    "Hint: Notice that the parenthesis in the exponent can also be written as $x^2\\,+\\,(y+\\frac{x}{4})^2-(\\frac{x}{4})^2\\,=\\,\\frac{15}{16}x^2\\,+\\,(y+\\frac{x}{4})^2$. Can you guess their mean values? \n",
    "\n",
    "#### Puzzle 2\n",
    "\n",
    "Problem:\n",
    "  1. Determine the covariance matrix $\\mathbf{Cov(X,Y)}$ and its inverse. \n",
    "  2. Determine its determinant\n",
    "  3. Determine the mean values of $X$ and $Y$.\n",
    "  4. Get the contour plot for the distribution\n",
    "\n",
    "Hint: From the exponent of the Gaussian, first read out the inverse of the covariance matrix. \n",
    "\n",
    "\n",
    "(TODO: Load pic)"
   ]
  },
  {
   "cell_type": "code",
   "execution_count": 24,
   "metadata": {
    "collapsed": false
   },
   "outputs": [
    {
     "data": {
      "text/plain": [
       "<matplotlib.contour.QuadContourSet at 0x7fd3a6511a20>"
      ]
     },
     "execution_count": 24,
     "metadata": {},
     "output_type": "execute_result"
    },
    {
     "data": {
      "image/png": "[encoded data removed]",
      "text/plain": [
       "<matplotlib.figure.Figure at 0x7fd3a65c7fd0>"
      ]
     },
     "metadata": {},
     "output_type": "display_data"
    }
   ],
   "source": [
    "#Solution\n",
    "\"\"\"\n",
    "...                           ...\n",
    "         ....        ....\n",
    "....                         ....\n",
    "\n",
    ".....                       .....\n",
    "            .       .\n",
    "......       .    .        ......\n",
    "               ...\n",
    ".......      .......      .......    \n",
    "\"\"\"\n",
    "\n",
    "inv_covariance=[[1,0.25],[0.25,1]]\n",
    "\n",
    "covariance=16/15*np.array([[1,-0.25],[-0.25,1]])\n",
    "xmean=ymean=0\n",
    "\n",
    "multiNorm = multivariate_normal(mean=[xmean,ymean],cov=covariance)\n",
    "plt.contourf(x,y,multiNorm.pdf(pos))"
   ]
  },
  {
   "cell_type": "markdown",
   "metadata": {},
   "source": [
    "## 3.14 Strutured Prob. Models"
   ]
  },
  {
   "cell_type": "markdown",
   "metadata": {},
   "source": [
    "(See examples from PGMPY at https://github.com/pgmpy/pgmpy )"
   ]
  },
  {
   "cell_type": "markdown",
   "metadata": {},
   "source": [
    "### Problem Description:\n",
    "Monte Hall Problem is a very famous problem in Probability Theory. The question goes like:\n",
    "\n",
    "\n",
    "Suppose you're on a game show, and you're given the choice of three doors: Behind one door is a car; behind the others, goats. You pick a door, say No. 1, and the host, who knows what's behind the doors, opens another door, say No. 3, which has a goat. He then says to you, \"Do you want to pick door No. 2?\" Is it to your advantage to switch your choice?\n",
    "\n",
    "By intution it seems that there shouldn't be any benefit of switching the door. But using Bayes' Theorem we can show that by switching the door the contestant has more chances of winning.\n",
    "\n",
    "You can also checkout the wikipedia page: https://en.wikipedia.org/wiki/Monty_Hall_problem"
   ]
  },
  {
   "cell_type": "markdown",
   "metadata": {},
   "source": [
    "### Probabilistic Interpretetion:\n",
    "So we have 3 random variables:\n",
    "\n",
    " * Contestant: $ C \\in \\{0, 1, 2\\} $, \n",
    " * Host $ H \\in \\{0, 1, 2\\} $ and \n",
    " * prize $ Z \\in \\{0, 1, 2 \\} $. \n",
    " \n",
    "The prize has been put randomly behind the doors therefore: \n",
    "\n",
    "$ P(Z=0) = P(Z=1) = P(Z=2) = \\frac{1}{3} $. \n",
    "\n",
    "Also, the contestant is going to choose the door randomly, therefore: \n",
    "\n",
    "$ P(C=0) = P(C=1) = P(C=2) = \\frac{1}{3} $. \n",
    "\n",
    "For this problem we can build a Bayesian Network structure like:\n",
    "\n",
    "         Prize      Contestant\n",
    "          \\            /\n",
    "           \\          /\n",
    "            \\        /\n",
    "             v      v\n",
    "               Host\n",
    "\n",
    "with the following CPDs (conditional prob. distributions):\n",
    "\n",
    "<pre>\n",
    "\n",
    "P(C):\n",
    "+----------+----------+-----------+-----------+\n",
    "|    C     |     0    |     1     |      2    |\n",
    "+----------+----------+-----------+-----------+\n",
    "|          |    0.33  |    0.33   |    0.33   |\n",
    "+----------+----------+-----------+-----------+\n",
    "\n",
    "P(Z):\n",
    "+----------+----------+-----------+-----------+\n",
    "|    Z     |     0    |     1     |      2    |\n",
    "+----------+----------+-----------+-----------+\n",
    "|          |    0.33  |    0.33   |    0.33   |\n",
    "+----------+----------+-----------+-----------+\n",
    "\n",
    "P(H | Z, C):\n",
    "+------+------+------+------+------+------+------+------+------+------+\n",
    "|   C  |          0         |          1         |          2         |\n",
    "+------+------+------+------+------+------+------+------+------+------+\n",
    "|   Z  |   0  |   1  |   2  |   0  |   1  |   2  |   0  |   1  |   2  |\n",
    "+------+------+------+------+------+------+------+------+------+------+\n",
    "|  H=0 |   0  |   0  |   0  |   0  |  0.5 |   1  |   0  |   1  |  0.5 | \n",
    "+------+------+------+------+------+------+------+------+------+------+\n",
    "|  H=1 |  0.5 |   0  |   1  |   0  |   0  |   0  |   1  |   0  |  0.5 |\n",
    "+------+------+------+------+------+------+------+------+------+------+\n",
    "|  H=2 |  0.5 |   1  |   0  |   1  |  0.5 |   0  |   0  |   0  |   0  |\n",
    "+------+------+------+------+------+------+------+------+------+------+\n",
    "</pre>\n",
    "\n",
    "Let's say that the contestant selected door C=0 and the host opened door H=2, we need to find the probability of the prize i.e. \n",
    "\n",
    "$P(Z | H=2, C=0)$."
   ]
  },
  {
   "cell_type": "markdown",
   "metadata": {},
   "source": [
    "#### Solution\n",
    "\n",
    "For doing that, wee need to express that probability in term of the only information we do know, which is given by these two tables of conditional probabilties.\n",
    "\n",
    "Using Bayes rule we express this probability as \n",
    "\n",
    "$P( Z \\,|\\, H, C) \\,=\\, P(H, Z, C) \\,/\\, P(H, C) $\n",
    "\n",
    "Let's get numerator and denominator:\n",
    "\n",
    "(1) $P(H,Z,C) \\,=\\, P(H\\,|\\,Z,C)\\cdot P(Z,C) \\,=\\,P(H\\,|\\,Z,C)\\cdot P(Z)\\cdot P(C) $ (Z and C are independent: $P(Z,C)\\,=\\,P(Z)\\cdot P(C)$ )\n",
    "\n",
    "(2) $P(H,C) \\,=\\, \\sum_Z P(H,Z,C)\\,=\\,\\sum_Z\\,P(H\\,|\\,Z,C)\\cdot P(Z,C) \\,=\\, P(H\\,|\\,0,C)\\cdot P(0,C) \\,+\\,P(H\\,|\\,1,C)\\cdot P(1,C) \\,+\\,P(H\\,|\\,2,C)\\cdot P(2,C) $\n",
    "\n",
    "\n",
    "Whence, for the specific values of $H=2,\\,C=0$\n",
    "\n",
    "(1) $P(H=2,Z,C=0)\\,=\\,P(H=2\\,|\\,Z,C=0)\\cdot P(Z)\\cdot P(C=0)\\,=\\,P(H=2\\,|\\,Z,C=0)\\cdot 1/9$\n",
    "\n",
    "(2) $P(H=2,C=0))\\,=\\,0.5\\cdot 1/9 \\,+\\,1\\cdot 1/9\\,+0 \\,=\\, 1/6$\n",
    "\n",
    "And the sought probability (mass) distribution is\n",
    "\n",
    "$Z\\;\\phantom{P(Z)}$  | $P(Z,\\,|\\,H=2,C=0)\\;\\phantom{P(Z)}$\n",
    "---|--------------------\n",
    "0  | $ 0.5\\cdot 1/9 / 1/6 \\,=\\, 1/3 $\n",
    "1  | $1 \\cdot 1/9 / 3/18 \\,=\\, 2/3$\n",
    "2  | $0 \\cdot 3/18 \\,=\\, 0$\n",
    "\n",
    "Following is a computation of this distribution using Python w/ library PGMPY for Probabilistic Graph Models"
   ]
  },
  {
   "cell_type": "code",
   "execution_count": 25,
   "metadata": {
    "collapsed": false
   },
   "outputs": [
    {
     "ename": "ImportError",
     "evalue": "cannot import name 'TabularCPD'",
     "output_type": "error",
     "traceback": [
      "\u001b[0;31m---------------------------------------------------------------------------\u001b[0m",
      "\u001b[0;31mImportError\u001b[0m                               Traceback (most recent call last)",
      "\u001b[0;32m<ipython-input-25-138c8e9c4c31>\u001b[0m in \u001b[0;36m<module>\u001b[0;34m()\u001b[0m\n\u001b[1;32m      1\u001b[0m \u001b[0;32mfrom\u001b[0m \u001b[0mpgmpy\u001b[0m\u001b[0;34m.\u001b[0m\u001b[0mmodels\u001b[0m \u001b[0;32mimport\u001b[0m \u001b[0mBayesianModel\u001b[0m\u001b[0;34m\u001b[0m\u001b[0m\n\u001b[0;32m----> 2\u001b[0;31m \u001b[0;32mfrom\u001b[0m \u001b[0mpgmpy\u001b[0m\u001b[0;34m.\u001b[0m\u001b[0mfactors\u001b[0m \u001b[0;32mimport\u001b[0m \u001b[0mTabularCPD\u001b[0m \u001b[0;31m#in OSX 10.12(Sierra) discrete doesn't exist => pgmpy.factors; else, use pgmpy.factors.discrete\u001b[0m\u001b[0;34m\u001b[0m\u001b[0m\n\u001b[0m\u001b[1;32m      3\u001b[0m \u001b[0;34m\u001b[0m\u001b[0m\n\u001b[1;32m      4\u001b[0m \u001b[0;31m# Defining the network structure\u001b[0m\u001b[0;34m\u001b[0m\u001b[0;34m\u001b[0m\u001b[0m\n\u001b[1;32m      5\u001b[0m \u001b[0mmodel\u001b[0m \u001b[0;34m=\u001b[0m \u001b[0mBayesianModel\u001b[0m\u001b[0;34m(\u001b[0m\u001b[0;34m[\u001b[0m\u001b[0;34m(\u001b[0m\u001b[0;34m'C'\u001b[0m\u001b[0;34m,\u001b[0m \u001b[0;34m'H'\u001b[0m\u001b[0;34m)\u001b[0m\u001b[0;34m,\u001b[0m \u001b[0;34m(\u001b[0m\u001b[0;34m'P'\u001b[0m\u001b[0;34m,\u001b[0m \u001b[0;34m'H'\u001b[0m\u001b[0;34m)\u001b[0m\u001b[0;34m]\u001b[0m\u001b[0;34m)\u001b[0m\u001b[0;34m\u001b[0m\u001b[0m\n",
      "\u001b[0;31mImportError\u001b[0m: cannot import name 'TabularCPD'"
     ]
    }
   ],
   "source": [
    "from pgmpy.models import BayesianModel\n",
    "from pgmpy.factors.discrete import TabularCPD #In Linux use pgmpy.factors.discrete \n",
    "#from pgmpy.factors import TabularCPD #in OSX 10.12(Sierra) discrete doesn't exist => pgmpy.factors; else, use pgmpy.factors.discrete \n",
    "\n",
    "# Defining the network structure\n",
    "model = BayesianModel([('C', 'H'), ('P', 'H')])\n",
    "\n",
    "# Defining the CPDs:\n",
    "cpd_c = TabularCPD('C', 3, [[0.33, 0.33, 0.33]])\n",
    "cpd_p = TabularCPD('P', 3, [[0.33, 0.33, 0.33]])\n",
    "cpd_h = TabularCPD('H', 3, [[0, 0, 0, 0, 0.5, 1, 0, 1, 0.5], \n",
    "                            [0.5, 0, 1, 0, 0, 0, 1, 0, 0.5], \n",
    "                            [0.5, 1, 0, 1, 0.5, 0, 0, 0, 0]],\n",
    "                  evidence=['C', 'P'], evidence_card=[3, 3])\n",
    "\n",
    "# Associating the CPDs with the network structure.\n",
    "model.add_cpds(cpd_c, cpd_p, cpd_h)\n",
    "\n",
    "# Some other methods\n",
    "model.get_cpds()"
   ]
  },
  {
   "cell_type": "code",
   "execution_count": null,
   "metadata": {
    "collapsed": false
   },
   "outputs": [],
   "source": [
    "# check_model check for the model structure and the associated CPD and returns True if everything is correct otherwise throws an exception\n",
    "model.check_model()"
   ]
  },
  {
   "cell_type": "code",
   "execution_count": null,
   "metadata": {
    "collapsed": false
   },
   "outputs": [],
   "source": [
    "# Infering the posterior probability \n",
    "from pgmpy.inference import VariableElimination\n",
    "\n",
    "infer = VariableElimination(model)\n",
    "posterior_p = infer.query(['P'], evidence={'C': 0, 'H': 2})\n",
    "print(posterior_p['P'])"
   ]
  },
  {
   "cell_type": "markdown",
   "metadata": {},
   "source": [
    "We see that the posterior probability of having the prize behind door 1 is more that door 0. Therefore the contestant should switch the door."
   ]
  },
  {
   "cell_type": "markdown",
   "metadata": {},
   "source": [
    "## Informtation Theory\n",
    "\n",
    "### Entropy\n",
    "\n",
    "$H(X) \\,=\\, -\\sum_i \\, P(x_i) \\,\\log P(x_i) $\n",
    "\n",
    "Joint entropy: $H(X,Y)\\,=\\,-\\sum_{ij}\\,P(x,y)\\,log P(x,y)$\n",
    "\n",
    "Conditional entropy: $H(X\\,|\\,Y)\\,=\\,-\\sum_{ij}\\,P(x\\,|\\,y)\\,log P(x\\,|\\,y)$\n",
    "\n",
    "Notice in all these definitions, there is only one single prob. dist. appearing in each of the expressions. \n",
    "\n",
    "That's not the case for what's called cross-entropy, which involves two prob. distributions over same set of random events:\n",
    "\n",
    "Cross entropy: $H(P;Q)\\,=\\,-\\sum_{ij}\\,P(x_i)\\,log Q(x_i)$\n",
    "\n",
    "The latter is related to the Kullback-Leibler divergence of both distributions \n",
    "\n",
    "$D(P(X) \\,||\\, Q(X)) = \\sum \\, P(x_i)\\,\\log P(x_i)/Q(x_i) $\n",
    "\n",
    "It is\n",
    "\n",
    "$D(P(X) \\,||\\, Q(X)) \\,=\\,H(P;Q)\\,-\\,H(P)$\n",
    "\n"
   ]
  },
  {
   "cell_type": "markdown",
   "metadata": {},
   "source": [
    "### What's the meaning of the entropy? \n",
    "\n",
    "Let's consider a probability mass distribution over the groups of a clustering of 5 elements. \n",
    "\n",
    "Say we obtained the clustering $P\\,=\\,1,2,3| 4,5$ that shows two groups of 3 and 2 elements respectively.\n",
    "\n",
    "What's the probability of choosing at random an element of each group? Simple frequentist approach yields $P_1=3/5$ and $P_2=2/5$. Whence\n",
    "\n",
    "$H(P)\\,=\\,-\\sum_i\\,P_i\\,\\log\\,P_i\\,=\\,-\\left(\\frac{3}{5}\\cdot\\log\\frac{3}{5}\\,+\\,\\frac{2}{5}\\cdot\\log\\frac{2}{5}\\right)\\,=\\,\\log\\,5\\,-\\,\\frac{1}{5}\\cdot\\left(3\\cdot\\log\\,3\\,+\\,2\\cdot\\log\\,2\\right)\\,\\approx\\,0.673$\n",
    "\n",
    "In bits, this amounts to $H_2(P)\\,\\approx\\,0.673/\\log(2)\\,\\approx 0.97$.\n",
    "\n",
    "In general, Shannon entropy measures our lack of information on the system -the block-size distribution of the clustering in this case. That is, we are missing information about it. The latter we could eventually recover by asking some oracle the right question. The value of the entropy in bits $\\sim\\,0.97$ means we'd need in average $\\sim\\,2^{0.97}\\,=\\,1.96$, i.e., almost 2 questions.\n",
    "\n",
    "#### Puzzle\n",
    "What would be the right two questions to ask?\n"
   ]
  },
  {
   "cell_type": "code",
   "execution_count": null,
   "metadata": {
    "collapsed": false
   },
   "outputs": [],
   "source": [
    "from math import log, exp\n",
    "\n",
    "print(\"log 10 = \",log(10) )\n",
    "print(\"log e = \",log( exp(1)) ) # == 1 => log := ln := natural logarithm\n",
    "\n",
    "def entPartition(N,blocks): #blocks: array with size of groups, e.g, {3,2}\n",
    "    H=0.0\n",
    "    for n in blocks:\n",
    "        H+=n*log(n)\n",
    "        \n",
    "    H=log(N)-H/N\n",
    "    return H\n",
    "\n",
    "H=entPartition(5,[3,2])\n",
    "\n",
    "print(\"Entropy of clustering P: H=\",H,\"\\n\\nIn bits: H=\",H/log(2),\" => #yes/no questions: \",2**(H/log(2)) )\n"
   ]
  },
  {
   "cell_type": "markdown",
   "metadata": {},
   "source": [
    "<!--\n",
    "Instead of a clustering obtained through an unsupervised learning algorithm, let's assume that P=123|45|0 represents the classification result of 5 elements into 3 distinct labels given by their order from left to right.\n",
    "Consider another such classification of 5 elements: $Q=123|4|5$ with three groups. \n",
    "-->\n",
    "Consider two discrete prob. mass distributions among 3 labels:\n",
    "$$P_1=3/5\\,,\\,P_2=2/5\\,,\\,P_3=0 \\nonumber\\\\Q_1=3/5\\,,\\,Q_2=1/5\\,,\\,Q_3=1/5$$\n",
    "\n",
    "How much different are both distributions?\n",
    "\n",
    "##### Kullback-Leibler divergence\n",
    "\n",
    "We interpret partition P as assigning 0 elements to the third\n",
    "\n",
    "$D( P \\,||\\, Q) \\,=\\,\\sum_{i=1\\cdots 3}P_i\\,\\cdot\\log\\frac{P_i}{Q_i}\\,=\\,3/5\\,\\log 1\\,+\\,2/5\\,\\log 2\\,+\\,0\\,=\\,\\frac{2}{5}\\,\\log 2$\n",
    "\n",
    "However,\n",
    "\n",
    "$D( Q \\,||\\, P) \\,=\\,\\sum_{i=1\\cdots 3}Q_i\\,\\cdot\\log\\frac{Q_i}{P_i}\\,=\\,3/5\\,\\log 1\\,-\\,1/5\\,\\log 2\\,+\\,1/5\\,\\log \\frac{1/5}{0}\\,\\to\\,\\infty $ !!\n",
    "\n",
    "Also, asume a third pro. distribution over those 3 same labels given by\n",
    "$$R_1=2/5\\,,\\,R_2=2/5\\,,\\,R_3=1/5 $$\n",
    "\n",
    "$D( P \\,||\\, R) \\,=\\,\\sum_{i=1\\cdots 3}P_i\\,\\cdot\\log\\frac{P_i}{R_i}\\,=\\,3/5\\,\\log 3/2\\,+\\,2/5\\,\\log 1\\,+\\,0\\,=\\,\\frac{3}{5}\\,\\log 3/2$\n",
    "\n",
    "$D( R \\,||\\, Q) \\,=\\,\\sum_{i=1\\cdots 3}R_i\\,\\cdot\\log\\frac{R_i}{Q_i}\\,=\\,2/5\\,\\log 2/3\\,+\\,2/5\\,\\log 2\\,+\\,1/5\\,\\log 1\\,=\\,-\\frac{2}{5}\\,\\log 3$\n",
    "\n",
    "Notice, $D( P \\,||\\, Q) \\,\\neq\\,D( P \\,||\\, R) \\,+\\,D( R \\,||\\, Q)$ . Thus triangle inequality doesn't hold either.\n",
    "\n",
    "This all becomes very counter-intuitive if one tries to interpret the Kullback-Leibler as a distance: it's not!\n",
    "\n"
   ]
  },
  {
   "cell_type": "markdown",
   "metadata": {},
   "source": [
    "## Appendix\n",
    "\n",
    "### Other Plots\n",
    "\n",
    "Couldn't get any interactive plot or animation working on my OSX nor Linux. Maybe somebody can get this working. Good luck!"
   ]
  },
  {
   "cell_type": "code",
   "execution_count": null,
   "metadata": {
    "collapsed": true
   },
   "outputs": [],
   "source": [
    "#Interactive plot\n",
    "import numpy as np\n",
    "import matplotlib.pyplot as plt\n",
    "from scipy.stats import norm\n",
    "from ipywidgets import interact\n",
    "\n",
    "\n",
    "# Plot between -10 and 10 with .001 steps.\n",
    "@interact(mu=(0.0,10.0,1.0), std=(1.0,10.0,1.0))\n",
    "def plot_normal(mu=0.0, std=2.0):\n",
    "    x_axis = np.arange(-10, 10, 0.001)\n",
    "    plt.plot(x_axis, norm.pdf(x_axis,mu,std))\n",
    "    plt.show()\n"
   ]
  },
  {
   "cell_type": "code",
   "execution_count": null,
   "metadata": {
    "collapsed": false
   },
   "outputs": [],
   "source": [
    "#Animation of a Gaussian Prob. density function for varying variance\n",
    "#\n",
    "\n",
    "from matplotlib import animation, rc\n",
    "from IPython.display import HTML\n",
    "\n",
    "fig, ax = plt.subplots()\n",
    "\n",
    "ax.set_xlim(( xmin, xmax))\n",
    "ax.set_ylim((-0, 41))\n",
    "\n",
    "line, = ax.plot([], [], lw=2)\n",
    "\n",
    "\n",
    "# initialization function: plot the background of each frame\n",
    "def init():\n",
    "    line.set_data([], [])\n",
    "    return (line,)\n",
    "\n",
    "def animate(i):\n",
    "    mu = 3 ; sig = 5\n",
    "    xmin = mu-5*sig ; xmax = mu+5*sig\n",
    "    x=np.linspace(xmin,xmax,num=100)\n",
    "    y = stats.norm.pdf(x,mu,i)\n",
    "    line.set_data(x,y)\n",
    "    return (line,)\n",
    "    \n",
    "anim = animation.FuncAnimation(fig, animate, init_func=init,frames=10, interval=1, blit=True)\n",
    "\n",
    "HTML(anim.to_html5_video())"
   ]
  },
  {
   "cell_type": "code",
   "execution_count": null,
   "metadata": {
    "collapsed": true
   },
   "outputs": [],
   "source": []
  }
 ],
 "metadata": {
  "anaconda-cloud": {},
  "kernelspec": {
   "display_name": "Python 3",
   "language": "python",
   "name": "python3"
  },
  "language_info": {
   "codemirror_mode": {
    "name": "ipython",
    "version": 3
   },
   "file_extension": ".py",
   "mimetype": "text/x-python",
   "name": "python",
   "nbconvert_exporter": "python",
   "pygments_lexer": "ipython3",
   "version": "3.4.2"
  }
 },
 "nbformat": 4,
 "nbformat_minor": 1
}
